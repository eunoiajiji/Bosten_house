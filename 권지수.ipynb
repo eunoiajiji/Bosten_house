{
 "cells": [
  {
   "cell_type": "markdown",
   "id": "267997d8-1c01-46be-a7fa-a5aef27e6f16",
   "metadata": {},
   "source": [
    "# EXAM"
   ]
  },
  {
   "cell_type": "code",
   "execution_count": 38,
   "id": "1ce14165-b5c7-48f6-856b-8fc9e4d57621",
   "metadata": {
    "tags": []
   },
   "outputs": [],
   "source": [
    "import pandas as pd\n",
    "import numpy as np\n",
    "import warnings\n",
    "warnings.filterwarnings(action='ignore')"
   ]
  },
  {
   "cell_type": "markdown",
   "id": "1e10b181-6e63-433e-92a5-f7fc87d0e9cd",
   "metadata": {},
   "source": [
    "* 1. csv 로드 데이터프레임"
   ]
  },
  {
   "cell_type": "code",
   "execution_count": 82,
   "id": "1454c30c-5565-4ea8-81aa-9a8418379b06",
   "metadata": {
    "tags": []
   },
   "outputs": [
    {
     "data": {
      "text/html": [
       "<div>\n",
       "<style scoped>\n",
       "    .dataframe tbody tr th:only-of-type {\n",
       "        vertical-align: middle;\n",
       "    }\n",
       "\n",
       "    .dataframe tbody tr th {\n",
       "        vertical-align: top;\n",
       "    }\n",
       "\n",
       "    .dataframe thead th {\n",
       "        text-align: right;\n",
       "    }\n",
       "</style>\n",
       "<table border=\"1\" class=\"dataframe\">\n",
       "  <thead>\n",
       "    <tr style=\"text-align: right;\">\n",
       "      <th></th>\n",
       "      <th>AGE</th>\n",
       "      <th>B</th>\n",
       "      <th>RM</th>\n",
       "      <th>CRIM</th>\n",
       "      <th>DIS</th>\n",
       "      <th>INDUS</th>\n",
       "      <th>LSTAT</th>\n",
       "      <th>NOX</th>\n",
       "      <th>PTRATIO</th>\n",
       "      <th>RAD</th>\n",
       "      <th>ZN</th>\n",
       "      <th>TAX</th>\n",
       "      <th>CHAS</th>\n",
       "      <th>Target</th>\n",
       "    </tr>\n",
       "  </thead>\n",
       "  <tbody>\n",
       "    <tr>\n",
       "      <th>0</th>\n",
       "      <td>65.2</td>\n",
       "      <td>396.9</td>\n",
       "      <td>6.575</td>\n",
       "      <td>0.00632</td>\n",
       "      <td>4.0900</td>\n",
       "      <td>2.31</td>\n",
       "      <td>4.98</td>\n",
       "      <td>0.538</td>\n",
       "      <td>15.3</td>\n",
       "      <td>1</td>\n",
       "      <td>18.0</td>\n",
       "      <td>296</td>\n",
       "      <td>0</td>\n",
       "      <td>24.0</td>\n",
       "    </tr>\n",
       "    <tr>\n",
       "      <th>1</th>\n",
       "      <td>78.9</td>\n",
       "      <td>396.9</td>\n",
       "      <td>6.421</td>\n",
       "      <td>0.02731</td>\n",
       "      <td>4.9671</td>\n",
       "      <td>7.07</td>\n",
       "      <td>9.14</td>\n",
       "      <td>0.469</td>\n",
       "      <td>17.8</td>\n",
       "      <td>2</td>\n",
       "      <td>0.0</td>\n",
       "      <td>242</td>\n",
       "      <td>0</td>\n",
       "      <td>21.6</td>\n",
       "    </tr>\n",
       "  </tbody>\n",
       "</table>\n",
       "</div>"
      ],
      "text/plain": [
       "    AGE      B     RM     CRIM     DIS  INDUS  LSTAT    NOX  PTRATIO  RAD  \\\n",
       "0  65.2  396.9  6.575  0.00632  4.0900   2.31   4.98  0.538     15.3    1   \n",
       "1  78.9  396.9  6.421  0.02731  4.9671   7.07   9.14  0.469     17.8    2   \n",
       "\n",
       "     ZN  TAX  CHAS  Target  \n",
       "0  18.0  296     0    24.0  \n",
       "1   0.0  242     0    21.6  "
      ]
     },
     "execution_count": 82,
     "metadata": {},
     "output_type": "execute_result"
    }
   ],
   "source": [
    "df = pd.read_csv('./Boston_house.csv')\n",
    "df.head(2)"
   ]
  },
  {
   "cell_type": "code",
   "execution_count": 3,
   "id": "e50f4bfe-850d-4e6c-a340-8f24800c8e0f",
   "metadata": {
    "tags": []
   },
   "outputs": [
    {
     "name": "stdout",
     "output_type": "stream",
     "text": [
      "<class 'pandas.core.frame.DataFrame'>\n",
      "RangeIndex: 506 entries, 0 to 505\n",
      "Data columns (total 14 columns):\n",
      " #   Column   Non-Null Count  Dtype  \n",
      "---  ------   --------------  -----  \n",
      " 0   AGE      506 non-null    float64\n",
      " 1   B        506 non-null    float64\n",
      " 2   RM       506 non-null    float64\n",
      " 3   CRIM     506 non-null    float64\n",
      " 4   DIS      506 non-null    float64\n",
      " 5   INDUS    506 non-null    float64\n",
      " 6   LSTAT    506 non-null    float64\n",
      " 7   NOX      506 non-null    float64\n",
      " 8   PTRATIO  506 non-null    float64\n",
      " 9   RAD      506 non-null    int64  \n",
      " 10  ZN       506 non-null    float64\n",
      " 11  TAX      506 non-null    int64  \n",
      " 12  CHAS     506 non-null    int64  \n",
      " 13  Target   506 non-null    float64\n",
      "dtypes: float64(11), int64(3)\n",
      "memory usage: 55.5 KB\n"
     ]
    }
   ],
   "source": [
    "df.info()"
   ]
  },
  {
   "cell_type": "markdown",
   "id": "edb9e743-bfa6-4616-bae2-e96895016e2f",
   "metadata": {
    "tags": []
   },
   "source": [
    "* 2. RM컬럼을 정렬 후 상위 1% 출력"
   ]
  },
  {
   "cell_type": "code",
   "execution_count": 41,
   "id": "2cb8db61-15bf-48da-8c9f-5ac0f960d0f9",
   "metadata": {
    "tags": []
   },
   "outputs": [
    {
     "data": {
      "text/plain": [
       "5"
      ]
     },
     "execution_count": 41,
     "metadata": {},
     "output_type": "execute_result"
    }
   ],
   "source": [
    "top_1 = int(df['RM'].shape[0]/100)\n",
    "top_1"
   ]
  },
  {
   "cell_type": "code",
   "execution_count": 42,
   "id": "07b1c4e3-bbe3-422c-9684-7e9ba3c27c16",
   "metadata": {
    "tags": []
   },
   "outputs": [
    {
     "data": {
      "text/plain": [
       "364    8.780\n",
       "225    8.725\n",
       "257    8.704\n",
       "262    8.398\n",
       "163    8.375\n",
       "Name: RM, dtype: float64"
      ]
     },
     "execution_count": 42,
     "metadata": {},
     "output_type": "execute_result"
    }
   ],
   "source": [
    "df['RM'].sort_values(ascending = False)[:top_1]"
   ]
  },
  {
   "cell_type": "markdown",
   "id": "a4978ca3-ee99-4362-a05a-219fff44f99c",
   "metadata": {},
   "source": [
    "----"
   ]
  },
  {
   "cell_type": "markdown",
   "id": "d5967e94-f838-4d2b-a7d0-88d5cb861420",
   "metadata": {
    "tags": []
   },
   "source": [
    "## nlargest(), nsmallest()"
   ]
  },
  {
   "cell_type": "code",
   "execution_count": 67,
   "id": "d16165e1-9578-4ae3-bdae-620ec09970c2",
   "metadata": {
    "tags": []
   },
   "outputs": [
    {
     "data": {
      "text/plain": [
       "364    8.780\n",
       "225    8.725\n",
       "257    8.704\n",
       "262    8.398\n",
       "163    8.375\n",
       "Name: RM, dtype: float64"
      ]
     },
     "execution_count": 67,
     "metadata": {},
     "output_type": "execute_result"
    }
   ],
   "source": [
    "df['RM'].nlargest(top_1)"
   ]
  },
  {
   "cell_type": "code",
   "execution_count": 70,
   "id": "efe520f0-1bf8-4faf-b6ec-9cf5352064bb",
   "metadata": {
    "tags": []
   },
   "outputs": [
    {
     "data": {
      "text/plain": [
       "365    3.561\n",
       "367    3.863\n",
       "374    4.138\n",
       "406    4.138\n",
       "384    4.368\n",
       "Name: RM, dtype: float64"
      ]
     },
     "execution_count": 70,
     "metadata": {},
     "output_type": "execute_result"
    }
   ],
   "source": [
    "df['RM'].nsmallest(5)"
   ]
  },
  {
   "cell_type": "markdown",
   "id": "b1a96512-a33a-461f-983e-8088d79da70c",
   "metadata": {},
   "source": [
    "---"
   ]
  },
  {
   "cell_type": "markdown",
   "id": "71089307-7ad1-41a3-9839-20b0aa55f4ce",
   "metadata": {},
   "source": [
    "## 백분위수(np.percentile, pd.quantile())\n",
    ": 오름차순 정렬했을 때 0을 최소값, 100을 최대값으로 \n",
    "  백분율로 나타낸 특정 위치 값\n"
   ]
  },
  {
   "cell_type": "markdown",
   "id": "afd03894-453a-4c1e-b4b1-8c02b72307ad",
   "metadata": {
    "tags": []
   },
   "source": [
    "## pd.quantile() : 데이터프레임일때"
   ]
  },
  {
   "cell_type": "markdown",
   "id": "44a71e7f-c802-43c2-9ff4-a4e6505c27e8",
   "metadata": {},
   "source": [
    "* 전체 데이터 중 중앙(50%), 25%, 25~50%에 위치한 값을 구해라.\n",
    "<pre>\n",
    "test = pd.DataFrame([1,2,3,4,5,6,7,8,9,10], columns=['seq'])\n",
    "print(test.head())\n",
    "print ( \"50%중앙값:\",  test['seq'].quantile(q=0.5, interpolation='nearest') )\n",
    "print ( \"25%:\",  test['seq'].quantile(q=0.25, interpolation='nearest') )\n"
   ]
  },
  {
   "cell_type": "code",
   "execution_count": 43,
   "id": "643f72bc-8f1b-4651-94c5-f72edc56a9e0",
   "metadata": {
    "tags": []
   },
   "outputs": [
    {
     "data": {
      "text/plain": [
       "5.5"
      ]
     },
     "execution_count": 43,
     "metadata": {},
     "output_type": "execute_result"
    }
   ],
   "source": [
    "test = pd.DataFrame([1,2,3,4,5,6,7,8,9,10], columns=['seq'])\n",
    "test['seq'].quantile(0.5)"
   ]
  },
  {
   "cell_type": "code",
   "execution_count": 47,
   "id": "ea5e405a-1cde-45e1-9dc4-47d5c2297f83",
   "metadata": {
    "tags": []
   },
   "outputs": [
    {
     "data": {
      "text/plain": [
       "5"
      ]
     },
     "execution_count": 47,
     "metadata": {},
     "output_type": "execute_result"
    }
   ],
   "source": [
    "test['seq'].quantile(0.5,interpolation='nearest')"
   ]
  },
  {
   "cell_type": "code",
   "execution_count": 48,
   "id": "36f7dc0b-7d78-4aab-8ef0-b1252bfd1dc7",
   "metadata": {
    "tags": []
   },
   "outputs": [
    {
     "data": {
      "text/plain": [
       "3.25"
      ]
     },
     "execution_count": 48,
     "metadata": {},
     "output_type": "execute_result"
    }
   ],
   "source": [
    "test['seq'].quantile(0.25)"
   ]
  },
  {
   "cell_type": "code",
   "execution_count": 49,
   "id": "ed9e61e6-4abc-480e-b303-f38da932b4ea",
   "metadata": {
    "tags": []
   },
   "outputs": [
    {
     "data": {
      "text/plain": [
       "3"
      ]
     },
     "execution_count": 49,
     "metadata": {},
     "output_type": "execute_result"
    }
   ],
   "source": [
    "test['seq'].quantile(0.25,interpolation='nearest')"
   ]
  },
  {
   "cell_type": "code",
   "execution_count": 63,
   "id": "de809bfd-7a08-40f0-a11f-33a4cbbd7563",
   "metadata": {
    "tags": []
   },
   "outputs": [
    {
     "data": {
      "text/plain": [
       "array([4, 5], dtype=int64)"
      ]
     },
     "execution_count": 63,
     "metadata": {},
     "output_type": "execute_result"
    }
   ],
   "source": [
    "test['seq'][(test['seq']>= test['seq'].quantile(0.25)) & ( test['seq']<=test['seq'].quantile(0.5))  ].values.reshape(-1)"
   ]
  },
  {
   "cell_type": "markdown",
   "id": "a119b984-a25b-496c-84ff-9a75b0d4d26a",
   "metadata": {},
   "source": [
    "## np.percentile(array or list, 퍼센트)"
   ]
  },
  {
   "cell_type": "code",
   "execution_count": 55,
   "id": "72a2d90d-3dad-4864-aebf-cb991af836ae",
   "metadata": {
    "tags": []
   },
   "outputs": [
    {
     "data": {
      "text/plain": [
       "5.5"
      ]
     },
     "execution_count": 55,
     "metadata": {},
     "output_type": "execute_result"
    }
   ],
   "source": [
    "a = [1,2,3,4,5,6,7,8,9,10]\n",
    "np.percentile(a,50)"
   ]
  },
  {
   "cell_type": "markdown",
   "id": "dc7859b8-696b-470f-8d8c-e4fa416f4d5e",
   "metadata": {},
   "source": [
    "## df['컬럼값'].describe().loc['50%']"
   ]
  },
  {
   "cell_type": "code",
   "execution_count": 58,
   "id": "f4f2d7cc-86be-4d17-818f-0f97c75f3db3",
   "metadata": {
    "tags": []
   },
   "outputs": [
    {
     "data": {
      "text/plain": [
       "5.5"
      ]
     },
     "execution_count": 58,
     "metadata": {},
     "output_type": "execute_result"
    }
   ],
   "source": [
    "test['seq'].describe().loc['50%']"
   ]
  },
  {
   "cell_type": "markdown",
   "id": "44939ce4-34df-4ca4-b90e-2913d467e01f",
   "metadata": {},
   "source": [
    "---"
   ]
  },
  {
   "cell_type": "markdown",
   "id": "dbff3b74-efa2-4f86-b9bf-00c1511964e1",
   "metadata": {},
   "source": [
    "3. Target 컬럼을 대상으로 평균 이상의 값을 갖는 데이터의 갯수 출력\n"
   ]
  },
  {
   "cell_type": "code",
   "execution_count": 88,
   "id": "1dbca09b-4fd1-405e-a9a6-be4fcc13c098",
   "metadata": {
    "tags": []
   },
   "outputs": [
    {
     "data": {
      "text/plain": [
       "209"
      ]
     },
     "execution_count": 88,
     "metadata": {},
     "output_type": "execute_result"
    }
   ],
   "source": [
    "df['Target'][df['Target']>=df['Target'].mean()].count()"
   ]
  },
  {
   "cell_type": "code",
   "execution_count": 87,
   "id": "06665e62-9047-4d6d-b1e2-c89eabae4050",
   "metadata": {
    "tags": []
   },
   "outputs": [
    {
     "data": {
      "text/plain": [
       "209"
      ]
     },
     "execution_count": 87,
     "metadata": {},
     "output_type": "execute_result"
    }
   ],
   "source": [
    "df['Target'][df['Target']>=df['Target'].mean()].shape[0]"
   ]
  },
  {
   "cell_type": "code",
   "execution_count": 86,
   "id": "721639be-2d47-4714-bf39-f0c9647e5f4c",
   "metadata": {
    "tags": []
   },
   "outputs": [
    {
     "data": {
      "text/plain": [
       "209"
      ]
     },
     "execution_count": 86,
     "metadata": {},
     "output_type": "execute_result"
    }
   ],
   "source": [
    "len(df['Target'][df['Target']>=df['Target'].mean()])"
   ]
  },
  {
   "cell_type": "markdown",
   "id": "d63efdbe-4ec1-426e-a69c-a561ff86c034",
   "metadata": {},
   "source": [
    "4. RM이 3이상이고 CHAS에 인접한 데이터의 갯수 출력"
   ]
  },
  {
   "cell_type": "code",
   "execution_count": 54,
   "id": "23e49432-e8e7-4fe9-9d37-72f6c6bcb00b",
   "metadata": {
    "tags": []
   },
   "outputs": [
    {
     "data": {
      "text/plain": [
       "35"
      ]
     },
     "execution_count": 54,
     "metadata": {},
     "output_type": "execute_result"
    }
   ],
   "source": [
    "df['Target'][(df['RM']>=3)&(df['CHAS']==1)].count()"
   ]
  },
  {
   "cell_type": "code",
   "execution_count": 89,
   "id": "7742b30d-247b-45de-b2ec-3f34d7a75fc1",
   "metadata": {
    "tags": []
   },
   "outputs": [
    {
     "data": {
      "text/plain": [
       "35"
      ]
     },
     "execution_count": 89,
     "metadata": {},
     "output_type": "execute_result"
    }
   ],
   "source": [
    "len(df[(df['RM']>=3)&(df['CHAS']==1)])"
   ]
  },
  {
   "cell_type": "code",
   "execution_count": 90,
   "id": "b49aae5b-b503-426e-a4d0-ffbdfae070ce",
   "metadata": {
    "tags": []
   },
   "outputs": [
    {
     "data": {
      "text/plain": [
       "35"
      ]
     },
     "execution_count": 90,
     "metadata": {},
     "output_type": "execute_result"
    }
   ],
   "source": [
    "df['Target'][(df['RM']>=3)&(df['CHAS']==1)].shape[0]"
   ]
  },
  {
   "cell_type": "markdown",
   "id": "a8884cc5-520b-4bc1-b6dd-b624e303a607",
   "metadata": {},
   "source": [
    "----"
   ]
  },
  {
   "cell_type": "markdown",
   "id": "184b467e-4464-4c3a-a8db-66fb9f47cd74",
   "metadata": {},
   "source": [
    "<pre>\n",
    "선물 판매 온라인 스토어에서  발생한 거래 내역 데이터\n",
    "• InvoiceNo : 거래 고유 번호\n",
    "• StockCode : 상품 고유 번호\n",
    "• Description : 상품명\n",
    "• Quantity : 거래 수량\n",
    "• InvoiceDate : 거래 일시\n",
    "• UnitPrice : 상품 단가\n",
    "• CustomerID : 구매자 고유 번호\n",
    "• Country : 구매 국가"
   ]
  },
  {
   "cell_type": "code",
   "execution_count": 91,
   "id": "c6aed067-a1ef-49e2-b62e-5c7fcec1a150",
   "metadata": {
    "tags": []
   },
   "outputs": [
    {
     "data": {
      "text/html": [
       "<div>\n",
       "<style scoped>\n",
       "    .dataframe tbody tr th:only-of-type {\n",
       "        vertical-align: middle;\n",
       "    }\n",
       "\n",
       "    .dataframe tbody tr th {\n",
       "        vertical-align: top;\n",
       "    }\n",
       "\n",
       "    .dataframe thead th {\n",
       "        text-align: right;\n",
       "    }\n",
       "</style>\n",
       "<table border=\"1\" class=\"dataframe\">\n",
       "  <thead>\n",
       "    <tr style=\"text-align: right;\">\n",
       "      <th></th>\n",
       "      <th>InvoiceNo</th>\n",
       "      <th>StockCode</th>\n",
       "      <th>Description</th>\n",
       "      <th>Quantity</th>\n",
       "      <th>InvoiceDate</th>\n",
       "      <th>UnitPrice</th>\n",
       "      <th>CustomerID</th>\n",
       "      <th>Country</th>\n",
       "    </tr>\n",
       "  </thead>\n",
       "  <tbody>\n",
       "    <tr>\n",
       "      <th>0</th>\n",
       "      <td>536365</td>\n",
       "      <td>85123A</td>\n",
       "      <td>WHITE HANGING HEART T-LIGHT HOLDER</td>\n",
       "      <td>6</td>\n",
       "      <td>2010-12-01 8:26</td>\n",
       "      <td>2.55</td>\n",
       "      <td>17850.0</td>\n",
       "      <td>South Korea</td>\n",
       "    </tr>\n",
       "    <tr>\n",
       "      <th>1</th>\n",
       "      <td>536365</td>\n",
       "      <td>71053</td>\n",
       "      <td>WHITE METAL LANTERN</td>\n",
       "      <td>6</td>\n",
       "      <td>2010-12-01 8:26</td>\n",
       "      <td>3.39</td>\n",
       "      <td>17850.0</td>\n",
       "      <td>South Korea</td>\n",
       "    </tr>\n",
       "  </tbody>\n",
       "</table>\n",
       "</div>"
      ],
      "text/plain": [
       "  InvoiceNo StockCode                         Description  Quantity  \\\n",
       "0    536365    85123A  WHITE HANGING HEART T-LIGHT HOLDER         6   \n",
       "1    536365     71053                 WHITE METAL LANTERN         6   \n",
       "\n",
       "       InvoiceDate  UnitPrice  CustomerID      Country  \n",
       "0  2010-12-01 8:26       2.55     17850.0  South Korea  \n",
       "1  2010-12-01 8:26       3.39     17850.0  South Korea  "
      ]
     },
     "execution_count": 91,
     "metadata": {},
     "output_type": "execute_result"
    }
   ],
   "source": [
    "df = pd.read_csv('./Online_retail_mini.csv')\n",
    "df.head(2)"
   ]
  },
  {
   "cell_type": "code",
   "execution_count": 8,
   "id": "93ef3267-4920-4be6-94f0-174c09b68ff3",
   "metadata": {
    "tags": []
   },
   "outputs": [
    {
     "name": "stdout",
     "output_type": "stream",
     "text": [
      "<class 'pandas.core.frame.DataFrame'>\n",
      "RangeIndex: 83 entries, 0 to 82\n",
      "Data columns (total 8 columns):\n",
      " #   Column       Non-Null Count  Dtype  \n",
      "---  ------       --------------  -----  \n",
      " 0   InvoiceNo    83 non-null     object \n",
      " 1   StockCode    83 non-null     object \n",
      " 2   Description  83 non-null     object \n",
      " 3   Quantity     83 non-null     int64  \n",
      " 4   InvoiceDate  83 non-null     object \n",
      " 5   UnitPrice    81 non-null     float64\n",
      " 6   CustomerID   76 non-null     float64\n",
      " 7   Country      83 non-null     object \n",
      "dtypes: float64(2), int64(1), object(5)\n",
      "memory usage: 5.3+ KB\n"
     ]
    }
   ],
   "source": [
    "df.info()"
   ]
  },
  {
   "cell_type": "markdown",
   "id": "613e68e1-1a91-42da-a930-f913da849615",
   "metadata": {},
   "source": [
    "5. InvoiceDate 컬럼을 대상으로 년도 월 정보를 추출한 후 InvoiceDate로 오름차순 정렬\n"
   ]
  },
  {
   "cell_type": "code",
   "execution_count": 9,
   "id": "3432ccda-9a04-4638-9775-e97f47f1a398",
   "metadata": {
    "tags": []
   },
   "outputs": [],
   "source": [
    "from datetime import datetime "
   ]
  },
  {
   "cell_type": "code",
   "execution_count": 10,
   "id": "cbeb23c2-a518-48d1-bca8-c88bfccc6ef1",
   "metadata": {
    "tags": []
   },
   "outputs": [],
   "source": [
    "df['InvoiceDate'] = pd.to_datetime(df['InvoiceDate'])"
   ]
  },
  {
   "cell_type": "code",
   "execution_count": 11,
   "id": "5ddded4a-5aa2-49f7-9946-0a06da38ce28",
   "metadata": {
    "tags": []
   },
   "outputs": [
    {
     "data": {
      "text/plain": [
       "0    2010\n",
       "1    2010\n",
       "Name: y, dtype: int64"
      ]
     },
     "execution_count": 11,
     "metadata": {},
     "output_type": "execute_result"
    }
   ],
   "source": [
    "df['y'] = df['InvoiceDate'].dt.year\n",
    "df['y'].head(2)"
   ]
  },
  {
   "cell_type": "code",
   "execution_count": 12,
   "id": "29de294f-6343-4322-ba70-0e057673e61f",
   "metadata": {
    "tags": []
   },
   "outputs": [
    {
     "data": {
      "text/plain": [
       "0    12\n",
       "1    12\n",
       "Name: m, dtype: int64"
      ]
     },
     "execution_count": 12,
     "metadata": {},
     "output_type": "execute_result"
    }
   ],
   "source": [
    "df['m'] = df['InvoiceDate'].dt.month\n",
    "df['m'].head(2)"
   ]
  },
  {
   "cell_type": "code",
   "execution_count": 13,
   "id": "21962ba5-dfa9-433d-a121-c83c2a4f7c97",
   "metadata": {
    "tags": []
   },
   "outputs": [
    {
     "data": {
      "text/html": [
       "<div>\n",
       "<style scoped>\n",
       "    .dataframe tbody tr th:only-of-type {\n",
       "        vertical-align: middle;\n",
       "    }\n",
       "\n",
       "    .dataframe tbody tr th {\n",
       "        vertical-align: top;\n",
       "    }\n",
       "\n",
       "    .dataframe thead th {\n",
       "        text-align: right;\n",
       "    }\n",
       "</style>\n",
       "<table border=\"1\" class=\"dataframe\">\n",
       "  <thead>\n",
       "    <tr style=\"text-align: right;\">\n",
       "      <th></th>\n",
       "      <th>InvoiceDate</th>\n",
       "      <th>y</th>\n",
       "      <th>m</th>\n",
       "    </tr>\n",
       "  </thead>\n",
       "  <tbody>\n",
       "    <tr>\n",
       "      <th>0</th>\n",
       "      <td>2010-12-01 08:26:00</td>\n",
       "      <td>2010</td>\n",
       "      <td>12</td>\n",
       "    </tr>\n",
       "    <tr>\n",
       "      <th>1</th>\n",
       "      <td>2010-12-01 08:26:00</td>\n",
       "      <td>2010</td>\n",
       "      <td>12</td>\n",
       "    </tr>\n",
       "    <tr>\n",
       "      <th>2</th>\n",
       "      <td>2010-12-01 08:26:00</td>\n",
       "      <td>2010</td>\n",
       "      <td>12</td>\n",
       "    </tr>\n",
       "    <tr>\n",
       "      <th>3</th>\n",
       "      <td>2010-12-01 08:26:00</td>\n",
       "      <td>2010</td>\n",
       "      <td>12</td>\n",
       "    </tr>\n",
       "    <tr>\n",
       "      <th>4</th>\n",
       "      <td>2010-12-01 08:26:00</td>\n",
       "      <td>2010</td>\n",
       "      <td>12</td>\n",
       "    </tr>\n",
       "  </tbody>\n",
       "</table>\n",
       "</div>"
      ],
      "text/plain": [
       "          InvoiceDate     y   m\n",
       "0 2010-12-01 08:26:00  2010  12\n",
       "1 2010-12-01 08:26:00  2010  12\n",
       "2 2010-12-01 08:26:00  2010  12\n",
       "3 2010-12-01 08:26:00  2010  12\n",
       "4 2010-12-01 08:26:00  2010  12"
      ]
     },
     "execution_count": 13,
     "metadata": {},
     "output_type": "execute_result"
    }
   ],
   "source": [
    "df[['InvoiceDate','y','m']].sort_values('InvoiceDate',ascending = True).head()"
   ]
  },
  {
   "cell_type": "markdown",
   "id": "c3af2b99-0686-4d54-b3ce-b9d4e050cb63",
   "metadata": {},
   "source": [
    "* 6. 구매국가 Country 값을 수치값으로 변환"
   ]
  },
  {
   "cell_type": "code",
   "execution_count": 99,
   "id": "3154f5e9-9d03-4b7b-882c-d5f84642e66e",
   "metadata": {
    "tags": []
   },
   "outputs": [
    {
     "name": "stdout",
     "output_type": "stream",
     "text": [
      "['South Korea', 'United Kingdom', 'Germany', 'Austria', 'France']\n"
     ]
    }
   ],
   "source": [
    "print(df['Country'].unique().tolist())"
   ]
  },
  {
   "cell_type": "code",
   "execution_count": 103,
   "id": "ae81839e-ecab-4b83-8a50-0855ae9400e7",
   "metadata": {
    "tags": []
   },
   "outputs": [
    {
     "data": {
      "text/plain": [
       "{0: 'South Korea',\n",
       " 1: 'United Kingdom',\n",
       " 2: 'Germany',\n",
       " 3: 'Austria',\n",
       " 4: 'France'}"
      ]
     },
     "execution_count": 103,
     "metadata": {},
     "output_type": "execute_result"
    }
   ],
   "source": [
    "my_dic =  dict(enumerate(df['Country'].unique().tolist()))\n",
    "my_dic"
   ]
  },
  {
   "cell_type": "code",
   "execution_count": 111,
   "id": "f3939f82-acba-47a7-8e97-ce1b5c49927a",
   "metadata": {
    "tags": []
   },
   "outputs": [],
   "source": [
    "def Country_int(x):\n",
    "    if x == 'South Korea':\n",
    "        return 0\n",
    "    elif x == 'United Kingdom':\n",
    "        return 1\n",
    "    elif x == 'Germany':\n",
    "        return 2\n",
    "    elif x == 'Austria':\n",
    "        return 3\n",
    "    elif x == 'France':\n",
    "        return 4"
   ]
  },
  {
   "cell_type": "code",
   "execution_count": 110,
   "id": "29dd3f2d-0cba-4873-b602-8f5935ed7cea",
   "metadata": {
    "tags": []
   },
   "outputs": [
    {
     "data": {
      "text/plain": [
       "73    1\n",
       "74    1\n",
       "75    1\n",
       "76    1\n",
       "77    4\n",
       "78    4\n",
       "79    4\n",
       "80    4\n",
       "81    4\n",
       "82    4\n",
       "Name: Country, dtype: int64"
      ]
     },
     "execution_count": 110,
     "metadata": {},
     "output_type": "execute_result"
    }
   ],
   "source": [
    "aa = df['Country'].apply(lambda x :Country_int(x) )\n",
    "aa.tail(10)"
   ]
  },
  {
   "cell_type": "code",
   "execution_count": 115,
   "id": "65ad73dd-ee9c-4062-90a1-699acd87fa75",
   "metadata": {
    "tags": []
   },
   "outputs": [
    {
     "data": {
      "text/plain": [
       "73    4\n",
       "74    4\n",
       "75    4\n",
       "76    4\n",
       "77    1\n",
       "78    1\n",
       "79    1\n",
       "80    1\n",
       "81    1\n",
       "82    1\n",
       "Name: Country1, dtype: int32"
      ]
     },
     "execution_count": 115,
     "metadata": {},
     "output_type": "execute_result"
    }
   ],
   "source": [
    "from sklearn.preprocessing import LabelEncoder\n",
    "le= LabelEncoder()\n",
    "le.fit(df['Country'])\n",
    "df['Country1']=le.transform(df['Country'])\n",
    "df['Country1'].tail(10)"
   ]
  },
  {
   "cell_type": "code",
   "execution_count": 15,
   "id": "b47ec137-dcc4-4fa3-b9b9-b555b4e519c5",
   "metadata": {
    "tags": []
   },
   "outputs": [
    {
     "data": {
      "text/html": [
       "<div>\n",
       "<style scoped>\n",
       "    .dataframe tbody tr th:only-of-type {\n",
       "        vertical-align: middle;\n",
       "    }\n",
       "\n",
       "    .dataframe tbody tr th {\n",
       "        vertical-align: top;\n",
       "    }\n",
       "\n",
       "    .dataframe thead th {\n",
       "        text-align: right;\n",
       "    }\n",
       "</style>\n",
       "<table border=\"1\" class=\"dataframe\">\n",
       "  <thead>\n",
       "    <tr style=\"text-align: right;\">\n",
       "      <th></th>\n",
       "      <th>Austria</th>\n",
       "      <th>France</th>\n",
       "      <th>Germany</th>\n",
       "      <th>South Korea</th>\n",
       "      <th>United Kingdom</th>\n",
       "    </tr>\n",
       "  </thead>\n",
       "  <tbody>\n",
       "    <tr>\n",
       "      <th>0</th>\n",
       "      <td>0</td>\n",
       "      <td>0</td>\n",
       "      <td>0</td>\n",
       "      <td>1</td>\n",
       "      <td>0</td>\n",
       "    </tr>\n",
       "    <tr>\n",
       "      <th>1</th>\n",
       "      <td>0</td>\n",
       "      <td>0</td>\n",
       "      <td>0</td>\n",
       "      <td>1</td>\n",
       "      <td>0</td>\n",
       "    </tr>\n",
       "    <tr>\n",
       "      <th>2</th>\n",
       "      <td>0</td>\n",
       "      <td>0</td>\n",
       "      <td>0</td>\n",
       "      <td>1</td>\n",
       "      <td>0</td>\n",
       "    </tr>\n",
       "    <tr>\n",
       "      <th>3</th>\n",
       "      <td>0</td>\n",
       "      <td>0</td>\n",
       "      <td>0</td>\n",
       "      <td>1</td>\n",
       "      <td>0</td>\n",
       "    </tr>\n",
       "    <tr>\n",
       "      <th>4</th>\n",
       "      <td>0</td>\n",
       "      <td>0</td>\n",
       "      <td>0</td>\n",
       "      <td>1</td>\n",
       "      <td>0</td>\n",
       "    </tr>\n",
       "  </tbody>\n",
       "</table>\n",
       "</div>"
      ],
      "text/plain": [
       "   Austria  France  Germany  South Korea  United Kingdom\n",
       "0        0       0        0            1               0\n",
       "1        0       0        0            1               0\n",
       "2        0       0        0            1               0\n",
       "3        0       0        0            1               0\n",
       "4        0       0        0            1               0"
      ]
     },
     "execution_count": 15,
     "metadata": {},
     "output_type": "execute_result"
    }
   ],
   "source": [
    "dfdf= pd.get_dummies(df['Country'])\n",
    "dfdf.head()"
   ]
  },
  {
   "cell_type": "code",
   "execution_count": 16,
   "id": "5c4e388f-823f-425c-8c86-bba6eddaeac8",
   "metadata": {
    "tags": []
   },
   "outputs": [],
   "source": [
    "df = pd.concat([df,dfdf],axis = 1)"
   ]
  },
  {
   "cell_type": "code",
   "execution_count": 17,
   "id": "518638d8-e193-4336-9d8b-17376dbb324e",
   "metadata": {
    "tags": []
   },
   "outputs": [
    {
     "data": {
      "text/html": [
       "<div>\n",
       "<style scoped>\n",
       "    .dataframe tbody tr th:only-of-type {\n",
       "        vertical-align: middle;\n",
       "    }\n",
       "\n",
       "    .dataframe tbody tr th {\n",
       "        vertical-align: top;\n",
       "    }\n",
       "\n",
       "    .dataframe thead th {\n",
       "        text-align: right;\n",
       "    }\n",
       "</style>\n",
       "<table border=\"1\" class=\"dataframe\">\n",
       "  <thead>\n",
       "    <tr style=\"text-align: right;\">\n",
       "      <th></th>\n",
       "      <th>InvoiceNo</th>\n",
       "      <th>StockCode</th>\n",
       "      <th>Description</th>\n",
       "      <th>Quantity</th>\n",
       "      <th>InvoiceDate</th>\n",
       "      <th>UnitPrice</th>\n",
       "      <th>CustomerID</th>\n",
       "      <th>Country</th>\n",
       "      <th>y</th>\n",
       "      <th>m</th>\n",
       "      <th>Austria</th>\n",
       "      <th>France</th>\n",
       "      <th>Germany</th>\n",
       "      <th>South Korea</th>\n",
       "      <th>United Kingdom</th>\n",
       "    </tr>\n",
       "  </thead>\n",
       "  <tbody>\n",
       "    <tr>\n",
       "      <th>0</th>\n",
       "      <td>536365</td>\n",
       "      <td>85123A</td>\n",
       "      <td>WHITE HANGING HEART T-LIGHT HOLDER</td>\n",
       "      <td>6</td>\n",
       "      <td>2010-12-01 08:26:00</td>\n",
       "      <td>2.55</td>\n",
       "      <td>17850.0</td>\n",
       "      <td>South Korea</td>\n",
       "      <td>2010</td>\n",
       "      <td>12</td>\n",
       "      <td>0</td>\n",
       "      <td>0</td>\n",
       "      <td>0</td>\n",
       "      <td>1</td>\n",
       "      <td>0</td>\n",
       "    </tr>\n",
       "    <tr>\n",
       "      <th>1</th>\n",
       "      <td>536365</td>\n",
       "      <td>71053</td>\n",
       "      <td>WHITE METAL LANTERN</td>\n",
       "      <td>6</td>\n",
       "      <td>2010-12-01 08:26:00</td>\n",
       "      <td>3.39</td>\n",
       "      <td>17850.0</td>\n",
       "      <td>South Korea</td>\n",
       "      <td>2010</td>\n",
       "      <td>12</td>\n",
       "      <td>0</td>\n",
       "      <td>0</td>\n",
       "      <td>0</td>\n",
       "      <td>1</td>\n",
       "      <td>0</td>\n",
       "    </tr>\n",
       "  </tbody>\n",
       "</table>\n",
       "</div>"
      ],
      "text/plain": [
       "  InvoiceNo StockCode                         Description  Quantity  \\\n",
       "0    536365    85123A  WHITE HANGING HEART T-LIGHT HOLDER         6   \n",
       "1    536365     71053                 WHITE METAL LANTERN         6   \n",
       "\n",
       "          InvoiceDate  UnitPrice  CustomerID      Country     y   m  Austria  \\\n",
       "0 2010-12-01 08:26:00       2.55     17850.0  South Korea  2010  12        0   \n",
       "1 2010-12-01 08:26:00       3.39     17850.0  South Korea  2010  12        0   \n",
       "\n",
       "   France  Germany  South Korea  United Kingdom  \n",
       "0       0        0            1               0  \n",
       "1       0        0            1               0  "
      ]
     },
     "execution_count": 17,
     "metadata": {},
     "output_type": "execute_result"
    }
   ],
   "source": [
    "df.head(2)"
   ]
  },
  {
   "cell_type": "markdown",
   "id": "99931478-d981-4940-a8c6-ff614cbe200b",
   "metadata": {},
   "source": [
    "* 7. Object 타입을 갖는 컬럼들에 대해 각 컬럼들이 갖는 고유값의 크기 출력\n"
   ]
  },
  {
   "cell_type": "code",
   "execution_count": 18,
   "id": "b13a4a35-cc2a-451e-b3f7-5bccf5c7d4c1",
   "metadata": {
    "tags": []
   },
   "outputs": [
    {
     "name": "stdout",
     "output_type": "stream",
     "text": [
      "<class 'pandas.core.frame.DataFrame'>\n",
      "RangeIndex: 83 entries, 0 to 82\n",
      "Data columns (total 15 columns):\n",
      " #   Column          Non-Null Count  Dtype         \n",
      "---  ------          --------------  -----         \n",
      " 0   InvoiceNo       83 non-null     object        \n",
      " 1   StockCode       83 non-null     object        \n",
      " 2   Description     83 non-null     object        \n",
      " 3   Quantity        83 non-null     int64         \n",
      " 4   InvoiceDate     83 non-null     datetime64[ns]\n",
      " 5   UnitPrice       81 non-null     float64       \n",
      " 6   CustomerID      76 non-null     float64       \n",
      " 7   Country         83 non-null     object        \n",
      " 8   y               83 non-null     int64         \n",
      " 9   m               83 non-null     int64         \n",
      " 10  Austria         83 non-null     uint8         \n",
      " 11  France          83 non-null     uint8         \n",
      " 12  Germany         83 non-null     uint8         \n",
      " 13  South Korea     83 non-null     uint8         \n",
      " 14  United Kingdom  83 non-null     uint8         \n",
      "dtypes: datetime64[ns](1), float64(2), int64(3), object(4), uint8(5)\n",
      "memory usage: 7.0+ KB\n"
     ]
    }
   ],
   "source": [
    "df.info()"
   ]
  },
  {
   "cell_type": "code",
   "execution_count": 119,
   "id": "c2585a5f-8990-4fed-907d-fe90ed00cc8d",
   "metadata": {
    "tags": []
   },
   "outputs": [
    {
     "data": {
      "text/plain": [
       "InvoiceNo      19\n",
       "StockCode      80\n",
       "Description    81\n",
       "InvoiceDate    14\n",
       "Country         5\n",
       "dtype: int64"
      ]
     },
     "execution_count": 119,
     "metadata": {},
     "output_type": "execute_result"
    }
   ],
   "source": [
    "df[df.select_dtypes('object').columns].nunique()"
   ]
  },
  {
   "cell_type": "markdown",
   "id": "181ffd60-654e-4497-beaa-76455a9eb735",
   "metadata": {},
   "source": [
    "8. 거래일시(InvoiceDate) 컬럼을 대상으로 년월별 거래 횟수 출력 후 최근일자순 정렬"
   ]
  },
  {
   "cell_type": "code",
   "execution_count": 20,
   "id": "86198d31-98b3-4bd3-8ad6-ad07fedbf684",
   "metadata": {
    "tags": []
   },
   "outputs": [
    {
     "data": {
      "text/plain": [
       "y     m \n",
       "2011  12     6\n",
       "      7      5\n",
       "      5     19\n",
       "      4     37\n",
       "2010  12    16\n",
       "dtype: int64"
      ]
     },
     "execution_count": 20,
     "metadata": {},
     "output_type": "execute_result"
    }
   ],
   "source": [
    "df[['y','m']].value_counts().sort_index(ascending=False)"
   ]
  },
  {
   "cell_type": "markdown",
   "id": "3b530170-bac1-41c4-8374-4f178f713ede",
   "metadata": {},
   "source": [
    "9. 구매자 고유 번호(CustomerID)가 결측인 회원값을 최빈도 값으로 대채\n"
   ]
  },
  {
   "cell_type": "code",
   "execution_count": 124,
   "id": "798c3385-7817-4579-8107-cb42ccd246ae",
   "metadata": {
    "tags": []
   },
   "outputs": [
    {
     "data": {
      "text/plain": [
       "array([22, 23, 72, 73, 74, 75, 76], dtype=int64)"
      ]
     },
     "execution_count": 124,
     "metadata": {},
     "output_type": "execute_result"
    }
   ],
   "source": [
    "df[df['CustomerID'].isna()].index.values"
   ]
  },
  {
   "cell_type": "code",
   "execution_count": 125,
   "id": "38f682ed-4f9d-4a43-bdba-dfe8c4e26705",
   "metadata": {
    "tags": []
   },
   "outputs": [],
   "source": [
    "df['CustomerID'] = df['CustomerID'].fillna(df['CustomerID'].mode()[0])"
   ]
  },
  {
   "cell_type": "code",
   "execution_count": 126,
   "id": "6a61848e-0748-4145-b4bc-5e864420760b",
   "metadata": {
    "tags": []
   },
   "outputs": [
    {
     "data": {
      "text/plain": [
       "0"
      ]
     },
     "execution_count": 126,
     "metadata": {},
     "output_type": "execute_result"
    }
   ],
   "source": [
    "df['CustomerID'].isna().sum()"
   ]
  },
  {
   "cell_type": "markdown",
   "id": "8389b7eb-4c92-404d-a27e-fbd433c82436",
   "metadata": {},
   "source": [
    "10. Quantity(거래수량)이 가장 큰 상품들의 상품명(Description), 가격정보(UnitPrice) 출력\n"
   ]
  },
  {
   "cell_type": "code",
   "execution_count": 32,
   "id": "d2bd2557-3e32-4d20-b8df-cfa148fcdec7",
   "metadata": {
    "tags": []
   },
   "outputs": [
    {
     "data": {
      "text/html": [
       "<div>\n",
       "<style scoped>\n",
       "    .dataframe tbody tr th:only-of-type {\n",
       "        vertical-align: middle;\n",
       "    }\n",
       "\n",
       "    .dataframe tbody tr th {\n",
       "        vertical-align: top;\n",
       "    }\n",
       "\n",
       "    .dataframe thead th {\n",
       "        text-align: right;\n",
       "    }\n",
       "</style>\n",
       "<table border=\"1\" class=\"dataframe\">\n",
       "  <thead>\n",
       "    <tr style=\"text-align: right;\">\n",
       "      <th></th>\n",
       "      <th>Description</th>\n",
       "      <th>UnitPrice</th>\n",
       "    </tr>\n",
       "  </thead>\n",
       "  <tbody>\n",
       "    <tr>\n",
       "      <th>33</th>\n",
       "      <td>WHITE HANGING HEART T-LIGHT HOLDER</td>\n",
       "      <td>2.55</td>\n",
       "    </tr>\n",
       "  </tbody>\n",
       "</table>\n",
       "</div>"
      ],
      "text/plain": [
       "                           Description  UnitPrice\n",
       "33  WHITE HANGING HEART T-LIGHT HOLDER       2.55"
      ]
     },
     "execution_count": 32,
     "metadata": {},
     "output_type": "execute_result"
    }
   ],
   "source": [
    "df[df['Quantity'] == df['Quantity'].max()][['Description','UnitPrice']]"
   ]
  }
 ],
 "metadata": {
  "kernelspec": {
   "display_name": "Python 3 (ipykernel)",
   "language": "python",
   "name": "python3"
  },
  "language_info": {
   "codemirror_mode": {
    "name": "ipython",
    "version": 3
   },
   "file_extension": ".py",
   "mimetype": "text/x-python",
   "name": "python",
   "nbconvert_exporter": "python",
   "pygments_lexer": "ipython3",
   "version": "3.8.8"
  }
 },
 "nbformat": 4,
 "nbformat_minor": 5
}
